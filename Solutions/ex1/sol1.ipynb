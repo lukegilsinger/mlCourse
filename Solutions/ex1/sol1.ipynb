{
 "cells": [
  {
   "cell_type": "code",
   "execution_count": 2,
   "metadata": {},
   "outputs": [],
   "source": [
    "import numpy as np\n",
    "from matplotlib import pyplot as plt\n",
    "from mpl_toolkits.mplot3d import Axes3D"
   ]
  },
  {
   "cell_type": "code",
   "execution_count": 3,
   "metadata": {},
   "outputs": [],
   "source": [
    "def warm_up():\n",
    "    return np.identity(5)"
   ]
  },
  {
   "cell_type": "code",
   "execution_count": 23,
   "metadata": {},
   "outputs": [],
   "source": [
    "def plot_data(x, y):\n",
    "    plt.scatter(x, y, s = 10, color = 'purple')\n",
    "    plt.ylabel('Profit in $10,000s')\n",
    "    plt.xlabel('Population of City in 10,000s')"
   ]
  },
  {
   "cell_type": "code",
   "execution_count": 35,
   "metadata": {},
   "outputs": [],
   "source": [
    "def compute_cost(theta, X, y):\n",
    "    return np.sum((X.dot(theta) - y)**2) / (2*y.shape[0])"
   ]
  },
  {
   "cell_type": "code",
   "execution_count": 48,
   "metadata": {},
   "outputs": [],
   "source": [
    "def compute_step(X, y, theta, alpha):\n",
    "    new_theta = theta - X.T.dot(X.dot(theta) - y) * (alpha / y.shape[0])\n",
    "    #print(new_theta)\n",
    "    return new_theta"
   ]
  },
  {
   "cell_type": "code",
   "execution_count": 4,
   "metadata": {},
   "outputs": [
    {
     "data": {
      "text/plain": [
       "array([[1., 0., 0., 0., 0.],\n",
       "       [0., 1., 0., 0., 0.],\n",
       "       [0., 0., 1., 0., 0.],\n",
       "       [0., 0., 0., 1., 0.],\n",
       "       [0., 0., 0., 0., 1.]])"
      ]
     },
     "execution_count": 4,
     "metadata": {},
     "output_type": "execute_result"
    }
   ],
   "source": [
    "warm_up()"
   ]
  },
  {
   "cell_type": "code",
   "execution_count": 11,
   "metadata": {},
   "outputs": [
    {
     "data": {
      "text/plain": [
       "97"
      ]
     },
     "execution_count": 11,
     "metadata": {},
     "output_type": "execute_result"
    }
   ],
   "source": [
    "food_truck_profits = np.loadtxt('./ex1.csv', delimiter=',')\n",
    "len(food_truck_profits)"
   ]
  },
  {
   "cell_type": "code",
   "execution_count": 29,
   "metadata": {},
   "outputs": [
    {
     "data": {
      "text/plain": [
       "[<matplotlib.lines.Line2D at 0x11fbed2b0>]"
      ]
     },
     "execution_count": 29,
     "metadata": {},
     "output_type": "execute_result"
    },
    {
     "data": {
      "image/png": "[encoded data removed]",
      "text/plain": [
       "<Figure size 432x288 with 1 Axes>"
      ]
     },
     "metadata": {
      "needs_background": "light"
     },
     "output_type": "display_data"
    }
   ],
   "source": [
    "x = food_truck_profits[:,0]\n",
    "y = food_truck_profits[:,1]\n",
    "plot_data(x, y)\n",
    "m, b = np.polyfit(x, y, 1)\n",
    "plt.plot(x, m*x + b)"
   ]
  },
  {
   "cell_type": "markdown",
   "metadata": {},
   "source": [
    "# Cost"
   ]
  },
  {
   "cell_type": "code",
   "execution_count": 40,
   "metadata": {},
   "outputs": [],
   "source": [
    "X = np.insert(food_truck_profits[:,:-1], 0, 1, axis = 1)\n",
    "y = food_truck_profits[:,-1:]"
   ]
  },
  {
   "cell_type": "code",
   "execution_count": 41,
   "metadata": {},
   "outputs": [
    {
     "data": {
      "text/plain": [
       "(97, 2)"
      ]
     },
     "execution_count": 41,
     "metadata": {},
     "output_type": "execute_result"
    }
   ],
   "source": [
    "X.shape"
   ]
  },
  {
   "cell_type": "code",
   "execution_count": 36,
   "metadata": {},
   "outputs": [
    {
     "name": "stdout",
     "output_type": "stream",
     "text": [
      "Your computed cost:     32.072733877455676\n"
     ]
    }
   ],
   "source": [
    "theta_0 = np.zeros((2,1))\n",
    "print(f'Your computed cost:     {compute_cost(theta_0, X, y)}')"
   ]
  },
  {
   "cell_type": "code",
   "execution_count": 43,
   "metadata": {},
   "outputs": [
    {
     "data": {
      "text/plain": [
       "array([[0., 0.],\n",
       "       [0., 0.]])"
      ]
     },
     "execution_count": 43,
     "metadata": {},
     "output_type": "execute_result"
    }
   ],
   "source": []
  },
  {
   "cell_type": "markdown",
   "metadata": {},
   "source": [
    "# Gradient Descent"
   ]
  },
  {
   "cell_type": "code",
   "execution_count": 46,
   "metadata": {},
   "outputs": [],
   "source": [
    "def gradient_descent(X, y, theta_0, step_func, cost_func, alpha = 0.01, num_iters = 1500, verbose = True):\n",
    "    theta = np.copy(theta_0)\n",
    "    cost_history = np.zeros(num_iters)\n",
    "    for i in range(num_iters):\n",
    "        theta = step_func(X, y, theta, alpha)\n",
    "        cost_history[i] = cost_func(theta, X, y)\n",
    "        if (verbose and (i < 10 or i%10 == 0)):\n",
    "            print(f'Iteration: {i:04}, Cost: {cost_history[i]}')\n",
    "    return theta, cost_history"
   ]
  },
  {
   "cell_type": "code",
   "execution_count": 49,
   "metadata": {},
   "outputs": [
    {
     "name": "stdout",
     "output_type": "stream",
     "text": [
      "Iteration: 0000, Cost: 6.737190464870004\n",
      "Iteration: 0001, Cost: 5.9315935686049555\n",
      "Iteration: 0002, Cost: 5.901154707081388\n",
      "Iteration: 0003, Cost: 5.895228586444221\n",
      "Iteration: 0004, Cost: 5.8900949431173295\n",
      "Iteration: 0005, Cost: 5.885004158443647\n",
      "Iteration: 0006, Cost: 5.879932480491418\n",
      "Iteration: 0007, Cost: 5.874879094762575\n",
      "Iteration: 0008, Cost: 5.869843911806385\n",
      "Iteration: 0009, Cost: 5.8648268653129305\n",
      "Iteration: 0010, Cost: 5.8598278899321805\n",
      "Iteration: 0020, Cost: 5.810817842627869\n",
      "Iteration: 0030, Cost: 5.76354476854712\n",
      "Iteration: 0040, Cost: 5.717947107333528\n",
      "Iteration: 0050, Cost: 5.673965480401506\n",
      "Iteration: 0060, Cost: 5.631542613611772\n",
      "Iteration: 0070, Cost: 5.590623262687323\n",
      "Iteration: 0080, Cost: 5.551154141272754\n",
      "Iteration: 0090, Cost: 5.513083851543225\n",
      "Iteration: 0100, Cost: 5.476362817272741\n",
      "Iteration: 0110, Cost: 5.440943219274565\n",
      "Iteration: 0120, Cost: 5.406778933129694\n",
      "Iteration: 0130, Cost: 5.373825469122317\n",
      "Iteration: 0140, Cost: 5.342039914304029\n",
      "Iteration: 0150, Cost: 5.311380876611354\n",
      "Iteration: 0160, Cost: 5.281808430963811\n",
      "Iteration: 0170, Cost: 5.253284067272322\n",
      "Iteration: 0180, Cost: 5.225770640290271\n",
      "Iteration: 0190, Cost: 5.199232321241896\n",
      "Iteration: 0200, Cost: 5.173634551165021\n",
      "Iteration: 0210, Cost: 5.148943995907395\n",
      "Iteration: 0220, Cost: 5.12512850271798\n",
      "Iteration: 0230, Cost: 5.102157058376736\n",
      "Iteration: 0240, Cost: 5.079999748808297\n",
      "Iteration: 0250, Cost: 5.05862772012701\n",
      "Iteration: 0260, Cost: 5.038013141062576\n",
      "Iteration: 0270, Cost: 5.018129166717367\n",
      "Iteration: 0280, Cost: 4.998949903608226\n",
      "Iteration: 0290, Cost: 4.9804503759472345\n",
      "Iteration: 0300, Cost: 4.962606493117519\n",
      "Iteration: 0310, Cost: 4.94539501830176\n",
      "Iteration: 0320, Cost: 4.928793538222536\n",
      "Iteration: 0330, Cost: 4.912780433955111\n",
      "Iteration: 0340, Cost: 4.897334852774656\n",
      "Iteration: 0350, Cost: 4.882436681001219\n",
      "Iteration: 0360, Cost: 4.868066517807122\n",
      "Iteration: 0370, Cost: 4.85420564995264\n",
      "Iteration: 0380, Cost: 4.840836027417081\n",
      "Iteration: 0390, Cost: 4.827940239893541\n",
      "Iteration: 0400, Cost: 4.8155014941166865\n",
      "Iteration: 0410, Cost: 4.80350359199409\n",
      "Iteration: 0420, Cost: 4.791930909512612\n",
      "Iteration: 0430, Cost: 4.780768376392351\n",
      "Iteration: 0440, Cost: 4.770001456461701\n",
      "Iteration: 0450, Cost: 4.7596161287279255\n",
      "Iteration: 0460, Cost: 4.7495988691186195\n",
      "Iteration: 0470, Cost: 4.739936632870274\n",
      "Iteration: 0480, Cost: 4.730616837541011\n",
      "Iteration: 0490, Cost: 4.721627346625359\n",
      "Iteration: 0500, Cost: 4.712956453749759\n",
      "Iteration: 0510, Cost: 4.7045928674281745\n",
      "Iteration: 0520, Cost: 4.696525696358007\n",
      "Iteration: 0530, Cost: 4.688744435237113\n",
      "Iteration: 0540, Cost: 4.681238951083514\n",
      "Iteration: 0550, Cost: 4.6739994700399246\n",
      "Iteration: 0560, Cost: 4.667016564645956\n",
      "Iteration: 0570, Cost: 4.660281141561418\n",
      "Iteration: 0580, Cost: 4.653784429724688\n",
      "Iteration: 0590, Cost: 4.647517968930801\n",
      "Iteration: 0600, Cost: 4.6414735988143185\n",
      "Iteration: 0610, Cost: 4.6356434482226705\n",
      "Iteration: 0620, Cost: 4.630019924966111\n",
      "Iteration: 0630, Cost: 4.62459570593095\n",
      "Iteration: 0640, Cost: 4.619363727543187\n",
      "Iteration: 0650, Cost: 4.614317176570121\n",
      "Iteration: 0660, Cost: 4.609449481247963\n",
      "Iteration: 0670, Cost: 4.60475430272389\n",
      "Iteration: 0680, Cost: 4.600225526801421\n",
      "Iteration: 0690, Cost: 4.595857255978325\n",
      "Iteration: 0700, Cost: 4.591643801766726\n",
      "Iteration: 0710, Cost: 4.587579677285393\n",
      "Iteration: 0720, Cost: 4.583659590114562\n",
      "Iteration: 0730, Cost: 4.579878435403997\n",
      "Iteration: 0740, Cost: 4.5762312892253085\n",
      "Iteration: 0750, Cost: 4.572713402159867\n",
      "Iteration: 0760, Cost: 4.56932019311398\n",
      "Iteration: 0770, Cost: 4.566047243353257\n",
      "Iteration: 0780, Cost: 4.562890290748406\n",
      "Iteration: 0790, Cost: 4.559845224224967\n",
      "Iteration: 0800, Cost: 4.5569080784097515\n",
      "Iteration: 0810, Cost: 4.554075028467021\n",
      "Iteration: 0820, Cost: 4.551342385117678\n",
      "Iteration: 0830, Cost: 4.548706589834975\n",
      "Iteration: 0840, Cost: 4.546164210210502\n",
      "Iteration: 0850, Cost: 4.543711935484407\n",
      "Iteration: 0860, Cost: 4.541346572234026\n",
      "Iteration: 0870, Cost: 4.53906504021532\n",
      "Iteration: 0880, Cost: 4.5368643683516865\n",
      "Iteration: 0890, Cost: 4.534741690864946\n",
      "Iteration: 0900, Cost: 4.532694243543437\n",
      "Iteration: 0910, Cost: 4.530719360142384\n",
      "Iteration: 0920, Cost: 4.5288144689118335\n",
      "Iteration: 0930, Cost: 4.52697708924765\n",
      "Iteration: 0940, Cost: 4.525204828461203\n",
      "Iteration: 0950, Cost: 4.523495378663533\n",
      "Iteration: 0960, Cost: 4.521846513759959\n",
      "Iteration: 0970, Cost: 4.520256086551191\n",
      "Iteration: 0980, Cost: 4.518722025937183\n",
      "Iteration: 0990, Cost: 4.517242334220096\n",
      "Iteration: 1000, Cost: 4.515815084502823\n",
      "Iteration: 1010, Cost: 4.514438418179744\n",
      "Iteration: 1020, Cost: 4.5131105425163875\n",
      "Iteration: 1030, Cost: 4.51182972831488\n",
      "Iteration: 1040, Cost: 4.5105943076621395\n",
      "Iteration: 1050, Cost: 4.509402671757868\n",
      "Iteration: 1060, Cost: 4.508253268819525\n",
      "Iteration: 1070, Cost: 4.507144602061552\n",
      "Iteration: 1080, Cost: 4.506075227746219\n",
      "Iteration: 1090, Cost: 4.505043753303542\n",
      "Iteration: 1100, Cost: 4.50404883551784\n",
      "Iteration: 1110, Cost: 4.503089178778567\n",
      "Iteration: 1120, Cost: 4.502163533393121\n",
      "Iteration: 1130, Cost: 4.501270693959463\n",
      "Iteration: 1140, Cost: 4.500409497796411\n",
      "Iteration: 1150, Cost: 4.499578823429556\n",
      "Iteration: 1160, Cost: 4.498777589130852\n",
      "Iteration: 1170, Cost: 4.4980047515099555\n",
      "Iteration: 1180, Cost: 4.497259304155494\n",
      "Iteration: 1190, Cost: 4.496540276324488\n",
      "Iteration: 1200, Cost: 4.495846731678219\n",
      "Iteration: 1210, Cost: 4.4951777670629065\n",
      "Iteration: 1220, Cost: 4.494532511333593\n",
      "Iteration: 1230, Cost: 4.4939101242197115\n",
      "Iteration: 1240, Cost: 4.493309795230867\n",
      "Iteration: 1250, Cost: 4.492730742601387\n",
      "Iteration: 1260, Cost: 4.49217221227229\n",
      "Iteration: 1270, Cost: 4.491633476909316\n",
      "Iteration: 1280, Cost: 4.4911138349557875\n",
      "Iteration: 1290, Cost: 4.490612609719008\n",
      "Iteration: 1300, Cost: 4.490129148489063\n",
      "Iteration: 1310, Cost: 4.489662821688838\n",
      "Iteration: 1320, Cost: 4.489213022054162\n",
      "Iteration: 1330, Cost: 4.488779163843019\n",
      "Iteration: 1340, Cost: 4.488360682072769\n",
      "Iteration: 1350, Cost: 4.487957031784418\n",
      "Iteration: 1360, Cost: 4.487567687332955\n",
      "Iteration: 1370, Cost: 4.487192141702838\n",
      "Iteration: 1380, Cost: 4.48682990584775\n",
      "Iteration: 1390, Cost: 4.486480508053741\n",
      "Iteration: 1400, Cost: 4.4861434933249615\n",
      "Iteration: 1410, Cost: 4.485818422791137\n",
      "Iteration: 1420, Cost: 4.485504873136073\n",
      "Iteration: 1430, Cost: 4.485202436046394\n",
      "Iteration: 1440, Cost: 4.4849107176798215\n",
      "Iteration: 1450, Cost: 4.484629338152313\n",
      "Iteration: 1460, Cost: 4.484357931043356\n",
      "Iteration: 1470, Cost: 4.4840961429188075\n",
      "Iteration: 1480, Cost: 4.483843632870647\n",
      "Iteration: 1490, Cost: 4.483600072073026\n"
     ]
    }
   ],
   "source": [
    "theta_converged, cost_history = gradient_descent(X, y, theta_0, compute_step, compute_cost)"
   ]
  },
  {
   "cell_type": "code",
   "execution_count": 51,
   "metadata": {},
   "outputs": [
    {
     "name": "stdout",
     "output_type": "stream",
     "text": [
      "Your converged parameters:\n",
      "[[-3.63029144]\n",
      " [ 1.16636235]]\n",
      "\n",
      "Expected converged parameters:\n",
      "[[-3.63029144]\n",
      " [ 1.16636235]]\n"
     ]
    }
   ],
   "source": [
    "theta_solution, _ = gradient_descent(X, y, theta_0, compute_step, compute_cost, verbose=False)\n",
    "print(f'Your converged parameters:\\n{theta_converged}\\n')\n",
    "print(f'Expected converged parameters:\\n{theta_solution}')"
   ]
  },
  {
   "cell_type": "code",
   "execution_count": 53,
   "metadata": {},
   "outputs": [
    {
     "data": {
      "image/png": "[encoded data removed]",
      "text/plain": [
       "<Figure size 432x288 with 1 Axes>"
      ]
     },
     "metadata": {
      "needs_background": "light"
     },
     "output_type": "display_data"
    }
   ],
   "source": [
    "fit_X = np.arange(np.min(X), np.max(X))\n",
    "aug_fit_X = np.column_stack([np.ones(len(fit_X)), fit_X])\n",
    "plt.scatter(X[:,1], y, s = 10, marker = 'x', label = 'Training data')\n",
    "plt.plot(fit_X, aug_fit_X.dot(theta_converged), 'b:', label = 'Your Converged Fit')\n",
    "plt.plot(fit_X, aug_fit_X.dot(theta_solution), 'g:', label = 'Expected Converged Fit')\n",
    "plt.ylabel('Profit in $10,000s')\n",
    "plt.xlabel('Population of City in 10,000s')\n",
    "plt.legend();"
   ]
  },
  {
   "cell_type": "code",
   "execution_count": 54,
   "metadata": {},
   "outputs": [
    {
     "name": "stdout",
     "output_type": "stream",
     "text": [
      "For a population of 3.5 (ten thousands), the model predicts a profit of 0.4519767867701767\n",
      "For a population of 7.0 (ten thousands), the model predicts a profit of 4.534245012944714\n"
     ]
    }
   ],
   "source": [
    "def predict(population):\n",
    "    prediction = np.array([[ 1, population ]]).dot(theta_converged)[0][0]\n",
    "    print(f'For a population of {population} (ten thousands), the model predicts a profit of {prediction}')\n",
    "predict(3.5)\n",
    "predict(7.0)"
   ]
  },
  {
   "cell_type": "code",
   "execution_count": null,
   "metadata": {},
   "outputs": [],
   "source": []
  }
 ],
 "metadata": {
  "kernelspec": {
   "display_name": "Python 3",
   "language": "python",
   "name": "python3"
  },
  "language_info": {
   "codemirror_mode": {
    "name": "ipython",
    "version": 3
   },
   "file_extension": ".py",
   "mimetype": "text/x-python",
   "name": "python",
   "nbconvert_exporter": "python",
   "pygments_lexer": "ipython3",
   "version": "3.7.3"
  }
 },
 "nbformat": 4,
 "nbformat_minor": 2
}
